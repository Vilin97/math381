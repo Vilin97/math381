{
 "cells": [
  {
   "cell_type": "code",
   "execution_count": 1,
   "metadata": {},
   "outputs": [],
   "source": [
    "###Fishstore Model by Sara Billey and Tim Chartier\n",
    "import math\n",
    "import numpy\n",
    "from  random import *\n"
   ]
  },
  {
   "cell_type": "code",
   "execution_count": 2,
   "metadata": {},
   "outputs": [
    {
     "name": "stdout",
     "output_type": "stream",
     "text": [
      "week    weekday    stock   customers    sold    lost \n",
      "\n",
      "0 \t   0 \t     1 \t       0 \t  0 \t  0\n",
      "0 \t   1 \t     0 \t       1 \t  1 \t  0\n",
      "0 \t   2 \t     0 \t       1 \t  0 \t  1\n",
      "0 \t   3 \t     0 \t       0 \t  0 \t  0\n",
      "0 \t   4 \t     0 \t       1 \t  1 \t  0\n",
      "0 \t   5 \t     0 \t       0 \t  0 \t  0\n",
      "0 \t   6 \t     0 \t       0 \t  0 \t  0\n",
      "1 \t   0 \t     1 \t       0 \t  0 \t  0\n",
      "1 \t   1 \t     1 \t       0 \t  0 \t  0\n",
      "1 \t   2 \t     0 \t       1 \t  1 \t  0\n",
      "1 \t   3 \t     0 \t       0 \t  0 \t  0\n",
      "1 \t   4 \t     0 \t       0 \t  0 \t  0\n",
      "1 \t   5 \t     1 \t       0 \t  0 \t  0\n",
      "1 \t   6 \t     1 \t       0 \t  0 \t  0\n",
      "2 \t   0 \t     1 \t       0 \t  0 \t  0\n",
      "2 \t   1 \t     1 \t       0 \t  0 \t  0\n",
      "2 \t   2 \t     0 \t       1 \t  1 \t  0\n",
      "2 \t   3 \t     0 \t       1 \t  0 \t  1\n",
      "2 \t   4 \t     0 \t       0 \t  0 \t  0\n",
      "2 \t   5 \t     0 \t       1 \t  1 \t  0\n",
      "2 \t   6 \t     0 \t       0 \t  0 \t  0\n",
      "\n",
      " totals over entire simulation:\n",
      "customers   sold       lost\n",
      "2 7 \t      5 \t 2\n"
     ]
    }
   ],
   "source": [
    "###Simple Fishstore Model=First Pass\n",
    "a = 1/3                           # probability of a customer each day\n",
    "days_for_delivery = 2   # days from order to delivery of new tanks\n",
    "\n",
    "stock = 1               # number of tanks in stock\n",
    "deliv = -1              # number of days until delivery of tank on order,          \t\t     #      -1 means none on order\n",
    "\n",
    "total_cust = 0\n",
    "total_sold = 0\n",
    "total_lost = 0\n",
    "\n",
    "print( \"week    weekday    stock   customers    sold    lost \\n\")\n",
    "for week in range(3):\n",
    "    for weekday in range(7):\n",
    "        sold = 0\n",
    "        lost = 0\n",
    "        if (deliv == 0):\n",
    "            stock = stock+1   # a new tank is delivered\n",
    "\n",
    "        if (deliv >= 0):\n",
    "             deliv = deliv-1   # days till next delivery\n",
    "\n",
    "        random_num = random()  # generate random number in [0,1]\n",
    "        if (random_num < a):   # use this number to tell if a customer arrived\n",
    "            customers = 1\n",
    "        else:\n",
    "            customers = 0\n",
    "        if (customers==1):\n",
    "            if (stock>0):             # we have a tank to sell the customer\n",
    "                sold = sold+1\n",
    "                stock = stock-1\n",
    "                if (deliv < 0):\n",
    "                    deliv = days_for_delivery  # we sold a tank and now order another \n",
    "            else:\n",
    "                lost = lost+1      # we didn't have a tank and lost a customer\n",
    "#Notice the indentations!  They matter in Python and for the accuracy of this experiment.\n",
    "                \n",
    "# keep track of total statistics:\n",
    "        total_cust = total_cust + customers\n",
    "        total_sold = total_sold + sold\n",
    "        total_lost = total_lost + lost\n",
    "\n",
    "      # display results for this day\n",
    "        print (week, \"\\t  \", weekday,\"\\t    \", stock,\"\\t      \", customers,\"\\t \", sold,\"\\t \", lost)\n",
    "       # endloop on weekday\n",
    "# endloop on week \n",
    "print('\\n totals over entire simulation:')\n",
    "print ('customers   sold       lost')\n",
    "print(week,total_cust, \"\\t     \", total_sold, \"\\t\", total_lost)\n"
   ]
  },
  {
   "cell_type": "code",
   "execution_count": 3,
   "metadata": {},
   "outputs": [],
   "source": [
    "## Some common statistical tools:\n",
    "def mean(alist):\n",
    "    return sum(i for i in alist)/len(alist)\n",
    "def myvariance(alist):\n",
    "    mu = mean(alist)\n",
    "    return sum((i-mu)**2 for i in alist)/len(alist)\n",
    "def mystdev(alist):   \n",
    "    return float(numpy.sqrt(myvariance(alist)))"
   ]
  },
  {
   "cell_type": "code",
   "execution_count": 4,
   "metadata": {},
   "outputs": [
    {
     "data": {
      "text/plain": [
       "(3.0, 3.5, 1.8708286933869707)"
      ]
     },
     "execution_count": 4,
     "metadata": {},
     "output_type": "execute_result"
    }
   ],
   "source": [
    "# Test these functions\n",
    "A=[3,6,1,2]\n",
    "mean(A), myvariance(A), mystdev(A)"
   ]
  },
  {
   "cell_type": "code",
   "execution_count": 20,
   "metadata": {},
   "outputs": [],
   "source": [
    "\n",
    "\n",
    "###############################################################################\n",
    "#Second pass at Python program for Monte Carlo simulation of the fish tank modeling problem.\n",
    "###############################################################################\n",
    "\n",
    "def fishstore_simulator(nsim, fixed_delivery = 12):  # number of different simulations to do\n",
    "\n",
    "    # set fixed parameters:  \n",
    "    nweeks = 104      # number of weeks in each simulation\n",
    "    ndays = 7*nweeks  # number of days in each simulation\n",
    "\n",
    "    a = 1/7   # probability of a customer each day\n",
    "\n",
    "    days_for_delivery = 5   # days from order to delivery of new tanks\n",
    "\n",
    "    # set strategy  parameters:\n",
    "    order_when_out = 1        # = 1  ==>  order a new tank when stock==0\n",
    "                              # = 0  ==>  don't order when out of tanks\n",
    "\n",
    "    # fixed_delivery =  12     # >0   ==>  standing order for a new tank\n",
    "                             #           every so many days\n",
    "\n",
    "    # profits and losses:\n",
    "    saleprofit = 20        # profit from selling one tank\n",
    "    lostloss = 10          # loss from losing a customer\n",
    "    overstockloss = .50    # cost of each tank overstock per night\n",
    "\n",
    "    # initialize:\n",
    "    profit = [0 for i in range(nsim)]\n",
    "\n",
    "    # print column headings:\n",
    "    # print( 'customers  sold      lost   fraction_served   overstock  end_stock   profit \\n')\n",
    "\n",
    "    stock_record = [0 for i in range(ndays)]     #   was numeric(0)\n",
    "\n",
    "    for sim in range(nsim):\n",
    "\n",
    "        # initialize:\n",
    "        random_nums = [random() for i in range(ndays)]   # array of random numbers to use each day\n",
    "        total_cust = 0\n",
    "        total_sold = 0\n",
    "        total_lost = 0\n",
    "        stock = 1      # number of tanks in stock\n",
    "        deliv =1       # number of days until delivery of tank on order\n",
    "                       # -1 means none on order\n",
    "        overstock = 0  # increment every night by number of excess tanks in stock\n",
    "\n",
    "\n",
    "          # main loop for a single simulation:\n",
    "\n",
    "        day = -1\n",
    "        for week in range(nweeks):\n",
    "            for weekday in range(7):\n",
    "\n",
    "                day = day+1              # day in the simulation\n",
    "                sold = 0\n",
    "                lost = 0\n",
    "                if (deliv == 0): \n",
    "                      stock = stock+1   # a new tank is delivered\n",
    "                                # at the beginning of the day\n",
    "                if (deliv >= 0):\n",
    "                    deliv = deliv-1   # days till next delivery\n",
    "\n",
    "                if numpy.mod(day, fixed_delivery) == 0 :\n",
    "                    # A new tank is delivered every so many days regardless of stock\n",
    "                    stock = stock+1\n",
    "\n",
    "                # use random number to decide how many customers arrived.  Here assume 0 or 1 customers per day:\n",
    "                if random_nums[day] < a:\n",
    "                    customers = 1\n",
    "                else:\n",
    "                    customers = 0\n",
    "\n",
    "                if  customers==1:\n",
    "                    if stock>0 :            # we have a tank to sell the customer\n",
    "                        sold = sold+1\n",
    "                        stock = stock-1\n",
    "\n",
    "                    else:\n",
    "                        lost = lost+1      # we didn't have a tank and lost a customer\n",
    "\n",
    "                if (order_when_out==1) & (stock==0) & (deliv < 0):\n",
    "                    # none in stock and none on order\n",
    "                    deliv = days_for_delivery  # order another\n",
    "\n",
    "                if (stock > 1):\n",
    "                    overstock = overstock + (stock - 1)\n",
    "\n",
    "\n",
    "                # keep track of total statistics:\n",
    "                total_cust = total_cust + customers\n",
    "                total_sold = total_sold + sold\n",
    "                total_lost = total_lost + lost\n",
    "                stock_record[day] = stock  # keep track of stock on each day\n",
    "    # end of day and week loops\n",
    "\n",
    "        fraction_served = total_sold / total_cust\n",
    "\n",
    "        profit[sim] = total_sold*saleprofit - total_lost*lostloss - overstock*overstockloss\n",
    "\n",
    "        # output total statistics:\n",
    "    #     print( total_cust,\"\\t    \", total_sold,\"     \", total_lost,\"\\t\", fraction_served,\"\\t\", overstock,\"\\t  \", stock,\"\\t    \",profit[sim],\"\\n\" )\n",
    "\n",
    "    #  # end loop on sim\n",
    "\n",
    "\n",
    "    # # compute and print average profit over all simulations:\n",
    "\n",
    "    average_profit = mean(profit)\n",
    "    # print( '  average profit     = ', average_profit,\"\\n\")\n",
    "\n",
    "    # # standard deviation:\n",
    "\n",
    "    standard_deviation = mystdev(profit)\n",
    "    # print( \"  standard deviat\n",
    "    # ion = \", standard_deviation,\"\\n\\n\")\n",
    "\n",
    "    return (average_profit, standard_deviation)"
   ]
  },
  {
   "cell_type": "code",
   "execution_count": 24,
   "metadata": {},
   "outputs": [],
   "source": [
    "max_N = 30\n",
    "result = [0]*(max_N-7)\n",
    "for N in range(7,max_N):\n",
    "    result[N-7] = fishstore_simulator(500,fixed_delivery=N)\n",
    "\n",
    "# result"
   ]
  },
  {
   "cell_type": "code",
   "execution_count": 25,
   "metadata": {},
   "outputs": [
    {
     "data": {
      "text/plain": [
       "[<matplotlib.lines.Line2D at 0x50fe850>]"
      ]
     },
     "execution_count": 25,
     "metadata": {},
     "output_type": "execute_result"
    },
    {
     "data": {
      "image/png": "[encoded data removed]",
      "text/plain": [
       "<Figure size 432x288 with 1 Axes>"
      ]
     },
     "metadata": {
      "needs_background": "light"
     },
     "output_type": "display_data"
    }
   ],
   "source": [
    "import matplotlib.pyplot as plt\n",
    "averages = [x[0] for x in result]\n",
    "plt.plot(range(7,max_N), averages)"
   ]
  },
  {
   "cell_type": "code",
   "execution_count": 27,
   "metadata": {},
   "outputs": [
    {
     "data": {
      "text/plain": [
       "[117.471,\n",
       " 1063.09,\n",
       " 1332.511,\n",
       " 1400.999,\n",
       " 1411.868,\n",
       " 1404.667,\n",
       " 1390.78,\n",
       " 1370.683,\n",
       " 1338.261,\n",
       " 1317.815,\n",
       " 1292.798,\n",
       " 1269.754,\n",
       " 1259.048,\n",
       " 1236.34,\n",
       " 1214.619,\n",
       " 1186.024,\n",
       " 1171.227,\n",
       " 1161.082,\n",
       " 1149.237,\n",
       " 1136.496,\n",
       " 1117.899,\n",
       " 1102.93,\n",
       " 1101.722]"
      ]
     },
     "execution_count": 27,
     "metadata": {},
     "output_type": "execute_result"
    }
   ],
   "source": [
    "averages\n",
    "# N = 11 gives maximum profit"
   ]
  },
  {
   "cell_type": "code",
   "execution_count": null,
   "metadata": {},
   "outputs": [],
   "source": []
  }
 ],
 "metadata": {
  "kernelspec": {
   "display_name": "Python 3",
   "language": "python",
   "name": "python3"
  },
  "language_info": {
   "codemirror_mode": {
    "name": "ipython",
    "version": 3
   },
   "file_extension": ".py",
   "mimetype": "text/x-python",
   "name": "python",
   "nbconvert_exporter": "python",
   "pygments_lexer": "ipython3",
   "version": "3.7.4"
  }
 },
 "nbformat": 4,
 "nbformat_minor": 2
}
